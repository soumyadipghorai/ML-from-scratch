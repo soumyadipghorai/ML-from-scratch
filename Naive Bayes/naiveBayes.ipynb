{
 "cells": [
  {
   "cell_type": "code",
   "execution_count": 1,
   "metadata": {},
   "outputs": [],
   "source": [
    "import numpy as np \n",
    "np.random.seed(1234)\n",
    "import itertools\n",
    "import functools\n",
    "from tqdm import tqdm \n",
    "import seaborn as sns \n",
    "import matplotlib.pyplot as plt \n",
    "%matplotlib inline"
   ]
  },
  {
   "cell_type": "markdown",
   "metadata": {},
   "source": [
    "* for binary feature use bernoulli dist \n",
    "* for categorical feature use categorical dist \n",
    "* for continuous feature use gaussian dist \n",
    "* for x is count vector and sum of x represent the length of the object use multinomial dist "
   ]
  },
  {
   "cell_type": "markdown",
   "metadata": {},
   "source": [
    "# Bernoulli NB : "
   ]
  },
  {
   "cell_type": "code",
   "execution_count": 2,
   "metadata": {},
   "outputs": [],
   "source": [
    "from BernoulliNB import BernoulliNB"
   ]
  },
  {
   "cell_type": "code",
   "execution_count": 3,
   "metadata": {},
   "outputs": [],
   "source": [
    "def fit (X, y) : \n",
    "    n_samples, n_features = X.shape \n",
    "    class_count = np.unique(y)\n",
    "    n_classes = len(class_count)\n",
    "\n",
    "    w = np.zeros((n_classes, n_features), dtype = np.float64)\n",
    "    w_priors = np.zeros(n_classes, dtype = np.float64)\n",
    "\n",
    "    for c in tqdm(range(n_classes), colour = 'CYAN') : \n",
    "        X_c = X[y == c]\n",
    "\n",
    "        w[c, :] = np.sum(X_c, axis = 0)/X_c.shape[0]\n",
    "\n",
    "        w_priors[c] = X_c.shape[0]/float(n_samples)\n",
    "\n",
    "    print('weight vector: ', w)\n",
    "    print('prior: ', w_priors)\n",
    "    return w, w_priors"
   ]
  },
  {
   "cell_type": "code",
   "execution_count": 4,
   "metadata": {},
   "outputs": [
    {
     "name": "stderr",
     "output_type": "stream",
     "text": [
      "100%|\u001b[36m██████████\u001b[0m| 2/2 [00:00<?, ?it/s]"
     ]
    },
    {
     "name": "stdout",
     "output_type": "stream",
     "text": [
      "weight vector:  [[0. 1.]\n",
      " [1. 0.]]\n",
      "prior:  [0.5 0.5]\n"
     ]
    },
    {
     "name": "stderr",
     "output_type": "stream",
     "text": [
      "\n"
     ]
    },
    {
     "data": {
      "text/plain": [
       "(array([[0., 1.],\n",
       "        [1., 0.]]),\n",
       " array([0.5, 0.5]))"
      ]
     },
     "execution_count": 4,
     "metadata": {},
     "output_type": "execute_result"
    }
   ],
   "source": [
    "X = np.array([[1, 0], [0, 1], [0, 1], [1, 0]])\n",
    "y = np.array([1, 0, 0, 1])\n",
    "fit(X, y)"
   ]
  },
  {
   "cell_type": "code",
   "execution_count": 5,
   "metadata": {},
   "outputs": [
    {
     "data": {
      "text/plain": [
       "array([[1, 0],\n",
       "       [1, 0]])"
      ]
     },
     "execution_count": 5,
     "metadata": {},
     "output_type": "execute_result"
    }
   ],
   "source": [
    "X_c = X[y == 1]; X_c"
   ]
  },
  {
   "cell_type": "code",
   "execution_count": 6,
   "metadata": {},
   "outputs": [
    {
     "data": {
      "text/plain": [
       "array([2, 0])"
      ]
     },
     "execution_count": 6,
     "metadata": {},
     "output_type": "execute_result"
    }
   ],
   "source": [
    "np.sum(X_c, axis = 0)"
   ]
  },
  {
   "cell_type": "code",
   "execution_count": 7,
   "metadata": {},
   "outputs": [
    {
     "data": {
      "text/plain": [
       "array([1., 0.])"
      ]
     },
     "execution_count": 7,
     "metadata": {},
     "output_type": "execute_result"
    }
   ],
   "source": [
    "w = np.sum(X_c, axis = 0)/X_c.shape[0]\n",
    "w"
   ]
  },
  {
   "cell_type": "code",
   "execution_count": 8,
   "metadata": {},
   "outputs": [
    {
     "name": "stderr",
     "output_type": "stream",
     "text": [
      "100%|\u001b[36m██████████\u001b[0m| 2/2 [00:00<?, ?it/s]"
     ]
    },
    {
     "name": "stdout",
     "output_type": "stream",
     "text": [
      "class conditional density:  [[0.25 0.75]\n",
      " [0.75 0.25]]\n",
      "prior:  [0.5 0.5]\n"
     ]
    },
    {
     "name": "stderr",
     "output_type": "stream",
     "text": [
      "\n"
     ]
    }
   ],
   "source": [
    "bernoulli_nb = BernoulliNB()\n",
    "bernoulli_nb.fit(X, y)"
   ]
  },
  {
   "cell_type": "code",
   "execution_count": 9,
   "metadata": {},
   "outputs": [
    {
     "data": {
      "text/plain": [
       "array([1, 0, 0, 1], dtype=int64)"
      ]
     },
     "execution_count": 9,
     "metadata": {},
     "output_type": "execute_result"
    }
   ],
   "source": [
    "bernoulli_nb.predict(X)"
   ]
  },
  {
   "cell_type": "markdown",
   "metadata": {},
   "source": [
    "* for the 1st example higher value for class label 1 --> 1 \n",
    "* for the 2nd example higher value for class label 0 --> 0"
   ]
  },
  {
   "cell_type": "code",
   "execution_count": 10,
   "metadata": {},
   "outputs": [
    {
     "data": {
      "text/plain": [
       "array([[-3.4657359 , -1.26851133],\n",
       "       [-1.26851133, -3.4657359 ],\n",
       "       [-1.26851133, -3.4657359 ],\n",
       "       [-3.4657359 , -1.26851133]])"
      ]
     },
     "execution_count": 10,
     "metadata": {},
     "output_type": "execute_result"
    }
   ],
   "source": [
    "bernoulli_nb.log_likelihood_prior_prob(X)"
   ]
  },
  {
   "cell_type": "code",
   "execution_count": 11,
   "metadata": {},
   "outputs": [
    {
     "data": {
      "text/plain": [
       "array([[0.1, 0.9],\n",
       "       [0.9, 0.1],\n",
       "       [0.9, 0.1],\n",
       "       [0.1, 0.9]])"
      ]
     },
     "execution_count": 11,
     "metadata": {},
     "output_type": "execute_result"
    }
   ],
   "source": [
    "bernoulli_nb.predict_probs(X)"
   ]
  },
  {
   "cell_type": "markdown",
   "metadata": {},
   "source": [
    "## Multiclass :"
   ]
  },
  {
   "cell_type": "code",
   "execution_count": 12,
   "metadata": {},
   "outputs": [],
   "source": [
    "X = np.array([[1, 0], [0, 1], [0, 1], [1, 0], [1, 1], [1, 1]])\n",
    "y = np.array([1, 0, 0, 1, 2, 2])"
   ]
  },
  {
   "cell_type": "code",
   "execution_count": 13,
   "metadata": {},
   "outputs": [
    {
     "name": "stderr",
     "output_type": "stream",
     "text": [
      "100%|\u001b[36m██████████\u001b[0m| 3/3 [00:00<00:00, 3026.19it/s]"
     ]
    },
    {
     "name": "stdout",
     "output_type": "stream",
     "text": [
      "class conditional density:  [[0.25 0.75]\n",
      " [0.75 0.25]\n",
      " [0.75 0.75]]\n",
      "prior:  [0.33333333 0.33333333 0.33333333]\n"
     ]
    },
    {
     "name": "stderr",
     "output_type": "stream",
     "text": [
      "\n"
     ]
    }
   ],
   "source": [
    "bernoulli_nb = BernoulliNB()\n",
    "bernoulli_nb.fit(X, y)"
   ]
  },
  {
   "cell_type": "code",
   "execution_count": 14,
   "metadata": {},
   "outputs": [
    {
     "data": {
      "text/plain": [
       "array([1, 0, 0, 1, 2, 2], dtype=int64)"
      ]
     },
     "execution_count": 14,
     "metadata": {},
     "output_type": "execute_result"
    }
   ],
   "source": [
    "bernoulli_nb.predict(X)"
   ]
  },
  {
   "cell_type": "code",
   "execution_count": 15,
   "metadata": {},
   "outputs": [
    {
     "data": {
      "text/plain": [
       "array([[0.07692308, 0.69230769, 0.23076923],\n",
       "       [0.69230769, 0.07692308, 0.23076923],\n",
       "       [0.69230769, 0.07692308, 0.23076923],\n",
       "       [0.07692308, 0.69230769, 0.23076923],\n",
       "       [0.2       , 0.2       , 0.6       ],\n",
       "       [0.2       , 0.2       , 0.6       ]])"
      ]
     },
     "execution_count": 15,
     "metadata": {},
     "output_type": "execute_result"
    }
   ],
   "source": [
    "bernoulli_nb.predict_probs(X)"
   ]
  },
  {
   "cell_type": "markdown",
   "metadata": {},
   "source": [
    "# Gaussian NB : "
   ]
  },
  {
   "cell_type": "code",
   "execution_count": 16,
   "metadata": {},
   "outputs": [],
   "source": [
    "from GaussianNB import GaussianNB"
   ]
  },
  {
   "cell_type": "code",
   "execution_count": 17,
   "metadata": {},
   "outputs": [],
   "source": [
    "from sklearn.datasets import make_classification, make_blobs\n",
    "from sklearn.model_selection import train_test_split \n",
    "\n",
    "X, y = make_blobs(\n",
    "    n_samples = 100, \n",
    "    n_features = 2, \n",
    "    centers = [[5, 5], [10, 10]], \n",
    "    cluster_std = 1.5, \n",
    "    random_state = 2\n",
    ")\n",
    "x_train, x_test, y_train, y_test = train_test_split(X, y, test_size = 0.2, random_state = 123)"
   ]
  },
  {
   "cell_type": "code",
   "execution_count": 18,
   "metadata": {},
   "outputs": [
    {
     "name": "stderr",
     "output_type": "stream",
     "text": [
      "2it [00:00, ?it/s]"
     ]
    },
    {
     "name": "stdout",
     "output_type": "stream",
     "text": [
      "Mean:  [[ 4.55853975  5.01739665]\n",
      " [10.30431548 10.08580617]]\n",
      "Variance:  [[2.13298417 2.30222002]\n",
      " [3.22242307 2.20662074]]\n",
      "Priors:  [0.5125 0.4875]\n"
     ]
    },
    {
     "name": "stderr",
     "output_type": "stream",
     "text": [
      "\n"
     ]
    }
   ],
   "source": [
    "gnb = GaussianNB()\n",
    "gnb.fit(x_train, y_train)"
   ]
  },
  {
   "cell_type": "code",
   "execution_count": 19,
   "metadata": {},
   "outputs": [
    {
     "data": {
      "image/png": "[encoded data removed]",
      "text/plain": [
       "<Figure size 432x288 with 1 Axes>"
      ]
     },
     "metadata": {
      "needs_background": "light"
     },
     "output_type": "display_data"
    }
   ],
   "source": [
    "import matplotlib.pyplot as plt\n",
    "import seaborn as sns\n",
    "\n",
    "fig, ax = plt.subplots()\n",
    "ax.scatter(X[:, 0], X[:, 1], c=y, s=50, cmap='RdBu')\n",
    "\n",
    "xlim = (min(X[:, 0]) - 2, max(X[:, 0]) + 2 )\n",
    "ylim = (min(X[:, 1]) - 2, max(X[:, 1]) + 2 )\n",
    "\n",
    "xg = np.linspace(xlim[0], xlim[1], 60)\n",
    "yg = np.linspace(ylim[0], ylim[1], 40)\n",
    "xx, yy = np.meshgrid(xg, yg)\n",
    "Xgrid = np.vstack([xx.ravel(), yy.ravel()]).T\n",
    "\n",
    "for label, color in enumerate(['red', 'blue']):\n",
    "    mask = (y == label)\n",
    "    mu, std = X[mask].mean(0), X[mask].std(0)\n",
    "    P = np.exp(-0.5 * (Xgrid - mu)**2 / std**2).prod(1)\n",
    "    Pm = np.ma.masked_array(P, P < 0.03)\n",
    "    ax.pcolorfast(xg, yg, Pm.reshape(xx.shape), alpha=0.5, cmap=color.title() + 's')\n",
    "    ax.contour(xx, yy, P.reshape(xx.shape), levels=[0.01, 0.1, 0.5, 0.9], colors = color, alpha=0.2)\n",
    "\n",
    "ax.set(xlim=xlim, ylim=ylim)\n",
    "\n",
    "plt.title('Gaussian distribution of data')\n",
    "plt.show()"
   ]
  },
  {
   "cell_type": "code",
   "execution_count": 20,
   "metadata": {},
   "outputs": [
    {
     "name": "stderr",
     "output_type": "stream",
     "text": [
      "20it [00:00, 1929.35it/s]\n"
     ]
    },
    {
     "data": {
      "text/plain": [
       "array([0, 1, 1, 0, 1, 0, 0, 0, 1, 1, 0, 0, 0, 1, 1, 1, 1, 1, 1, 0],\n",
       "      dtype=int64)"
      ]
     },
     "execution_count": 20,
     "metadata": {},
     "output_type": "execute_result"
    }
   ],
   "source": [
    "gnb.predict(x_test)"
   ]
  },
  {
   "cell_type": "code",
   "execution_count": 21,
   "metadata": {},
   "outputs": [
    {
     "name": "stderr",
     "output_type": "stream",
     "text": [
      "20it [00:00, 2506.23it/s]"
     ]
    },
    {
     "name": "stdout",
     "output_type": "stream",
     "text": [
      "              precision    recall  f1-score   support\n",
      "\n",
      "           0       1.00      1.00      1.00         9\n",
      "           1       1.00      1.00      1.00        11\n",
      "\n",
      "    accuracy                           1.00        20\n",
      "   macro avg       1.00      1.00      1.00        20\n",
      "weighted avg       1.00      1.00      1.00        20\n",
      "\n"
     ]
    },
    {
     "name": "stderr",
     "output_type": "stream",
     "text": [
      "\n"
     ]
    }
   ],
   "source": [
    "from sklearn.metrics import classification_report \n",
    "print(classification_report(y_test, gnb.predict(x_test)))"
   ]
  },
  {
   "cell_type": "code",
   "execution_count": 22,
   "metadata": {},
   "outputs": [
    {
     "name": "stderr",
     "output_type": "stream",
     "text": [
      "20it [00:00, 2720.75it/s]\n"
     ]
    },
    {
     "data": {
      "text/plain": [
       "array([[9.99999746e-01, 2.54140753e-07],\n",
       "       [7.63749214e-14, 1.00000000e+00],\n",
       "       [4.23038642e-03, 9.95769614e-01],\n",
       "       [9.99986614e-01, 1.33855473e-05],\n",
       "       [7.05769182e-06, 9.99992942e-01],\n",
       "       [9.99820566e-01, 1.79433743e-04],\n",
       "       [9.72541524e-01, 2.74584756e-02],\n",
       "       [9.99982043e-01, 1.79572091e-05],\n",
       "       [2.85910189e-05, 9.99971409e-01],\n",
       "       [1.01888837e-07, 9.99999898e-01],\n",
       "       [7.39129058e-01, 2.60870942e-01],\n",
       "       [9.99793438e-01, 2.06561658e-04],\n",
       "       [9.99999915e-01, 8.46737165e-08],\n",
       "       [2.03213294e-05, 9.99979679e-01],\n",
       "       [8.76198350e-09, 9.99999991e-01],\n",
       "       [6.51163513e-05, 9.99934884e-01],\n",
       "       [9.27638525e-05, 9.99907236e-01],\n",
       "       [7.58034673e-09, 9.99999992e-01],\n",
       "       [1.81773339e-03, 9.98182267e-01],\n",
       "       [9.99985544e-01, 1.44557945e-05]])"
      ]
     },
     "execution_count": 22,
     "metadata": {},
     "output_type": "execute_result"
    }
   ],
   "source": [
    "gnb.predict_proba(x_test)"
   ]
  },
  {
   "cell_type": "code",
   "execution_count": 23,
   "metadata": {},
   "outputs": [
    {
     "data": {
      "image/png": "[encoded data removed]",
      "text/plain": [
       "<Figure size 720x576 with 1 Axes>"
      ]
     },
     "metadata": {
      "needs_background": "light"
     },
     "output_type": "display_data"
    }
   ],
   "source": [
    "x_new = np.array([1.5, 6.5])\n",
    "\n",
    "\n",
    "plt.figure(figsize=(10, 8))\n",
    "plt.scatter(X[:, 0], X[:, 1], marker = 'o', c= y, s = 200, edgecolors='k', cmap = 'RdBu')\n",
    "\n",
    "plt.scatter(x_new[0], x_new[1], marker= 'o', c='green', s=250, edgecolors='k', alpha= 0.8)\n",
    "plt.annotate(\n",
    "    'new example', xy = x_new, xytext = (-30, 120), \n",
    "    textcoords = 'offset points', \n",
    "    arrowprops = dict(facecolor = 'black', shrink = 0.05), fontsize = 18)\n",
    "\n",
    "plt.show()"
   ]
  },
  {
   "cell_type": "code",
   "execution_count": 24,
   "metadata": {},
   "outputs": [
    {
     "name": "stderr",
     "output_type": "stream",
     "text": [
      "1it [00:00, 1000.55it/s]\n"
     ]
    },
    {
     "data": {
      "text/plain": [
       "array([[9.99996296e-01, 3.70449944e-06]])"
      ]
     },
     "execution_count": 24,
     "metadata": {},
     "output_type": "execute_result"
    }
   ],
   "source": [
    "gnb.predict_proba(np.array([x_new]))"
   ]
  },
  {
   "cell_type": "markdown",
   "metadata": {},
   "source": [
    "## Multiclass"
   ]
  },
  {
   "cell_type": "code",
   "execution_count": 25,
   "metadata": {},
   "outputs": [],
   "source": [
    "X, y = make_blobs(n_samples = 100,\n",
    "                    n_features =2,\n",
    "                    centers = [[5,5], [10,10], [20,20]],\n",
    "                    cluster_std = 1.5,\n",
    "                    random_state=3)\n",
    "\n",
    "X_train, X_test, y_train, y_test = train_test_split(X, y, test_size=0.2, random_state=123)"
   ]
  },
  {
   "cell_type": "code",
   "execution_count": 26,
   "metadata": {},
   "outputs": [
    {
     "name": "stderr",
     "output_type": "stream",
     "text": [
      "3it [00:00, ?it/s]"
     ]
    },
    {
     "name": "stdout",
     "output_type": "stream",
     "text": [
      "Mean:  [[ 4.94844927  4.67947138]\n",
      " [ 9.62097704 10.49990402]\n",
      " [19.63832097 19.94706375]]\n",
      "Variance:  [[1.99332345 2.36976247]\n",
      " [1.68415535 2.25596351]\n",
      " [1.79203315 1.24939267]]\n",
      "Priors:  [0.3375 0.35   0.3125]\n"
     ]
    },
    {
     "name": "stderr",
     "output_type": "stream",
     "text": [
      "\n"
     ]
    }
   ],
   "source": [
    "gaussian_nb_mc = GaussianNB()\n",
    "gaussian_nb_mc.fit(X_train, y_train)"
   ]
  },
  {
   "cell_type": "code",
   "execution_count": 27,
   "metadata": {},
   "outputs": [
    {
     "name": "stderr",
     "output_type": "stream",
     "text": [
      "20it [00:00, 1645.86it/s]"
     ]
    },
    {
     "name": "stdout",
     "output_type": "stream",
     "text": [
      "              precision    recall  f1-score   support\n",
      "\n",
      "           0       1.00      1.00      1.00         7\n",
      "           1       1.00      1.00      1.00         5\n",
      "           2       1.00      1.00      1.00         8\n",
      "\n",
      "    accuracy                           1.00        20\n",
      "   macro avg       1.00      1.00      1.00        20\n",
      "weighted avg       1.00      1.00      1.00        20\n",
      "\n"
     ]
    },
    {
     "name": "stderr",
     "output_type": "stream",
     "text": [
      "\n"
     ]
    }
   ],
   "source": [
    "print(classification_report(y_test, gaussian_nb_mc.predict(X_test)))"
   ]
  },
  {
   "cell_type": "code",
   "execution_count": 28,
   "metadata": {},
   "outputs": [
    {
     "name": "stderr",
     "output_type": "stream",
     "text": [
      "20it [00:00, 1669.74it/s]\n"
     ]
    },
    {
     "data": {
      "text/plain": [
       "array([[1.02996770e-47, 2.67740135e-24, 1.00000000e+00],\n",
       "       [5.00111567e-05, 9.99949989e-01, 6.51529293e-32],\n",
       "       [9.99999999e-01, 9.45325297e-10, 1.33290144e-78],\n",
       "       [1.00000000e+00, 6.49743430e-12, 7.70260328e-90],\n",
       "       [1.50617094e-52, 5.94123831e-27, 1.00000000e+00],\n",
       "       [3.77917160e-47, 9.99218112e-23, 1.00000000e+00],\n",
       "       [5.30598294e-33, 9.05195020e-13, 1.00000000e+00],\n",
       "       [6.63950534e-07, 9.99999336e-01, 1.42699786e-26],\n",
       "       [3.57244754e-61, 3.86494439e-34, 1.00000000e+00],\n",
       "       [9.70872284e-06, 9.99990291e-01, 5.02104511e-31],\n",
       "       [9.99982252e-01, 1.77477098e-05, 2.51366893e-63],\n",
       "       [3.93493321e-39, 5.51495730e-18, 1.00000000e+00],\n",
       "       [1.00000000e+00, 4.72574372e-11, 1.19906531e-79],\n",
       "       [1.19575291e-47, 3.45203067e-24, 1.00000000e+00],\n",
       "       [9.09245241e-01, 9.07547595e-02, 1.30885257e-46],\n",
       "       [9.99999997e-01, 2.64110663e-09, 3.37901343e-80],\n",
       "       [9.97572472e-01, 2.42752753e-03, 1.17514148e-55],\n",
       "       [1.12896485e-05, 9.99988710e-01, 3.59429638e-31],\n",
       "       [9.18841787e-06, 9.99990812e-01, 2.02077792e-29],\n",
       "       [4.87507189e-58, 6.38893442e-32, 1.00000000e+00]])"
      ]
     },
     "execution_count": 28,
     "metadata": {},
     "output_type": "execute_result"
    }
   ],
   "source": [
    "gaussian_nb_mc.predict_proba(X_test)"
   ]
  },
  {
   "cell_type": "markdown",
   "metadata": {},
   "source": [
    "## Multinomial NB : "
   ]
  },
  {
   "cell_type": "code",
   "execution_count": 29,
   "metadata": {},
   "outputs": [],
   "source": [
    "from MultinomialNB import MultinomialNB"
   ]
  },
  {
   "cell_type": "code",
   "execution_count": 30,
   "metadata": {},
   "outputs": [],
   "source": [
    "rng = np.random.RandomState(1)\n",
    "X = rng.randint(5, size = (1000, 5))\n",
    "y = rng.randint(2, size = (1000, ))\n",
    "\n",
    "x_train, x_test, y_train, y_test = train_test_split(X, y)"
   ]
  },
  {
   "cell_type": "code",
   "execution_count": 31,
   "metadata": {},
   "outputs": [
    {
     "name": "stdout",
     "output_type": "stream",
     "text": [
      "(750, 5)\n",
      "(750,)\n"
     ]
    }
   ],
   "source": [
    "print(x_train.shape)\n",
    "print(y_train.shape)"
   ]
  },
  {
   "cell_type": "code",
   "execution_count": 32,
   "metadata": {},
   "outputs": [
    {
     "name": "stderr",
     "output_type": "stream",
     "text": [
      "2it [00:00, 2011.66it/s]"
     ]
    },
    {
     "name": "stdout",
     "output_type": "stream",
     "text": [
      "prior :  [0.48670213 0.51329787]\n",
      "parameters of multinomial dist :  [[0.21505674 0.18959314 0.18903958 0.19402159 0.21228896]\n",
      " [0.20939734 0.19662921 0.19867211 0.19765066 0.19765066]]\n"
     ]
    },
    {
     "name": "stderr",
     "output_type": "stream",
     "text": [
      "\n"
     ]
    }
   ],
   "source": [
    "multinomial_nb = MultinomialNB()\n",
    "multinomial_nb.fit(x_train, y_train)\n",
    "\n",
    "print('prior : ', multinomial_nb.w_priors)\n",
    "print('parameters of multinomial dist : ', multinomial_nb.w)"
   ]
  },
  {
   "cell_type": "markdown",
   "metadata": {},
   "source": [
    "bad results due to random label assignment in the synthetic data "
   ]
  },
  {
   "cell_type": "code",
   "execution_count": 33,
   "metadata": {},
   "outputs": [
    {
     "name": "stdout",
     "output_type": "stream",
     "text": [
      "              precision    recall  f1-score   support\n",
      "\n",
      "           0       0.56      0.36      0.44       120\n",
      "           1       0.55      0.74      0.63       130\n",
      "\n",
      "    accuracy                           0.56       250\n",
      "   macro avg       0.56      0.55      0.54       250\n",
      "weighted avg       0.56      0.56      0.54       250\n",
      "\n"
     ]
    }
   ],
   "source": [
    "print(classification_report(y_test, multinomial_nb.predict(x_test)))"
   ]
  },
  {
   "cell_type": "code",
   "execution_count": 34,
   "metadata": {},
   "outputs": [
    {
     "data": {
      "text/plain": [
       "array([[0.50447923, 0.49552077],\n",
       "       [0.46840293, 0.53159707],\n",
       "       [0.46586549, 0.53413451],\n",
       "       [0.47863674, 0.52136326],\n",
       "       [0.41676981, 0.58323019]])"
      ]
     },
     "execution_count": 34,
     "metadata": {},
     "output_type": "execute_result"
    }
   ],
   "source": [
    "multinomial_nb.predict_proba(x_test[:5])"
   ]
  },
  {
   "cell_type": "markdown",
   "metadata": {},
   "source": [
    "### Multiclass "
   ]
  },
  {
   "cell_type": "code",
   "execution_count": 35,
   "metadata": {},
   "outputs": [],
   "source": [
    "rng = np.random.RandomState(1)\n",
    "X = rng.randint(5, size = (1000, 5))\n",
    "y = rng.randint(3, size = (1000, ))\n",
    "\n",
    "x_train, x_test, y_train, y_test = train_test_split(X, y)"
   ]
  },
  {
   "cell_type": "code",
   "execution_count": 36,
   "metadata": {},
   "outputs": [
    {
     "name": "stderr",
     "output_type": "stream",
     "text": [
      "3it [00:00, ?it/s]"
     ]
    },
    {
     "name": "stdout",
     "output_type": "stream",
     "text": [
      "prior :  [0.34528552 0.3373174  0.31739708]\n",
      "parameters of multinomial dist :  [[0.2078758  0.19386596 0.19386596 0.204468   0.19992427]\n",
      " [0.21811024 0.18503937 0.2015748  0.18700787 0.20826772]\n",
      " [0.20880033 0.19676214 0.18887505 0.20257368 0.20298879]]\n"
     ]
    },
    {
     "name": "stderr",
     "output_type": "stream",
     "text": [
      "\n"
     ]
    }
   ],
   "source": [
    "multinomial_nb = MultinomialNB()\n",
    "multinomial_nb.fit(x_train, y_train)\n",
    "\n",
    "print('prior : ', multinomial_nb.w_priors)\n",
    "print('parameters of multinomial dist : ', multinomial_nb.w)"
   ]
  },
  {
   "cell_type": "code",
   "execution_count": 37,
   "metadata": {},
   "outputs": [
    {
     "name": "stdout",
     "output_type": "stream",
     "text": [
      "              precision    recall  f1-score   support\n",
      "\n",
      "           0       0.34      0.55      0.42        88\n",
      "           1       0.32      0.37      0.34        89\n",
      "           2       0.17      0.01      0.03        73\n",
      "\n",
      "    accuracy                           0.33       250\n",
      "   macro avg       0.28      0.31      0.26       250\n",
      "weighted avg       0.28      0.33      0.28       250\n",
      "\n"
     ]
    }
   ],
   "source": [
    "print(classification_report(y_test, multinomial_nb.predict(x_test)))"
   ]
  },
  {
   "cell_type": "markdown",
   "metadata": {},
   "source": [
    "based on the prob you can say that \n",
    "* example 1 will be assigned to class 1\n",
    "* example 2 will be assigned to class 1\n",
    "* example 3 will be assigned to class 2"
   ]
  },
  {
   "cell_type": "code",
   "execution_count": 38,
   "metadata": {},
   "outputs": [
    {
     "data": {
      "text/plain": [
       "array([[0.34613294, 0.33342303, 0.32044403],\n",
       "       [0.37027112, 0.29079745, 0.33893143],\n",
       "       [0.33544186, 0.34800064, 0.3165575 ],\n",
       "       [0.39306283, 0.24154715, 0.36539002],\n",
       "       [0.31160012, 0.37669558, 0.3117043 ]])"
      ]
     },
     "execution_count": 38,
     "metadata": {},
     "output_type": "execute_result"
    }
   ],
   "source": [
    "multinomial_nb.predict_proba(x_test[:5])"
   ]
  },
  {
   "cell_type": "code",
   "execution_count": null,
   "metadata": {},
   "outputs": [],
   "source": []
  },
  {
   "cell_type": "code",
   "execution_count": null,
   "metadata": {},
   "outputs": [],
   "source": []
  }
 ],
 "metadata": {
  "kernelspec": {
   "display_name": "Python 3.7.9 64-bit (windows store)",
   "language": "python",
   "name": "python3"
  },
  "language_info": {
   "codemirror_mode": {
    "name": "ipython",
    "version": 3
   },
   "file_extension": ".py",
   "mimetype": "text/x-python",
   "name": "python",
   "nbconvert_exporter": "python",
   "pygments_lexer": "ipython3",
   "version": "3.7.9"
  },
  "orig_nbformat": 4,
  "vscode": {
   "interpreter": {
    "hash": "49deadb19ec3199b19c2e07bd674ab90037832d683175982dd3cb88bf7cb6cf2"
   }
  }
 },
 "nbformat": 4,
 "nbformat_minor": 2
}
