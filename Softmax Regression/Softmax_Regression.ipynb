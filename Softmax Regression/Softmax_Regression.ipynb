{
  "cells": [
    {
      "cell_type": "markdown",
      "metadata": {
        "id": "UdcBbUnZUskR"
      },
      "source": [
        "used for multiclass classification\n",
        "\n",
        "loss --> categorical cross entropy loss"
      ]
    },
    {
      "cell_type": "code",
      "execution_count": null,
      "metadata": {
        "id": "9_w5JZt0TVlQ"
      },
      "outputs": [],
      "source": [
        "import numpy as np\n",
        "from keras.datasets import mnist\n",
        "import matplotlib.pyplot as plt"
      ]
    },
    {
      "cell_type": "code",
      "execution_count": null,
      "metadata": {
        "id": "_xIy-i5PTWyb"
      },
      "outputs": [],
      "source": [
        "(train_X, train_y), (test_X, test_y) = mnist.load_data()"
      ]
    },
    {
      "cell_type": "code",
      "execution_count": null,
      "metadata": {
        "colab": {
          "base_uri": "https://localhost:8080/",
          "height": 412
        },
        "id": "frfieP5BTdld",
        "outputId": "7842b329-f636-42d4-b662-1570ebe7ff2d"
      },
      "outputs": [
        {
          "data": {
            "image/png": "[encoded data removed]",
            "text/plain": [
              "<Figure size 720x504 with 15 Axes>"
            ]
          },
          "metadata": {
            "needs_background": "light"
          },
          "output_type": "display_data"
        }
      ],
      "source": [
        "# Plotting some examples\n",
        "fig = plt.figure(figsize=(10,7))\n",
        "for i in range(15):\n",
        "    ax = fig.add_subplot(3, 5, i+1)\n",
        "    ax.imshow(train_X[i], cmap=plt.get_cmap('gray'))\n",
        "    ax.set_title('Label (y): {y}'.format(y=train_y[i]))\n",
        "    plt.axis('off')"
      ]
    },
    {
      "cell_type": "code",
      "execution_count": null,
      "metadata": {
        "id": "E-woVrHhT7OK"
      },
      "outputs": [],
      "source": [
        "X_train = train_X.reshape(train_X.shape[0], 28*28)\n",
        "X_test = test_X.reshape(test_X.shape[0], 28*28)"
      ]
    },
    {
      "cell_type": "code",
      "execution_count": null,
      "metadata": {
        "id": "xzy8faBn_ji4"
      },
      "outputs": [],
      "source": [
        "#Normalising\n",
        "X_train = X_train/255\n",
        "X_test = X_test/255"
      ]
    },
    {
      "cell_type": "markdown",
      "metadata": {
        "id": "_gbg225PUlWC"
      },
      "source": [
        "for softmax the label vector needs to be in one hot format"
      ]
    },
    {
      "cell_type": "code",
      "execution_count": null,
      "metadata": {
        "id": "3TnYdy9bUOP6"
      },
      "outputs": [],
      "source": [
        "def convert_to_one_hot_encoding(y, k):\n",
        "    #Intitalising with zeros\n",
        "    y_one_hot = np.zeros((len(y), k))\n",
        "\n",
        "    #Putting 1 for column where the label is\n",
        "    y_one_hot[np.arange(len(y)), y] = 1\n",
        "    return y_one_hot"
      ]
    },
    {
      "cell_type": "code",
      "execution_count": null,
      "metadata": {
        "id": "MD2Vcm8YUfPm"
      },
      "outputs": [],
      "source": [
        "def linear_combination(X, w, b):\n",
        "    return X @ w + b"
      ]
    },
    {
      "cell_type": "code",
      "execution_count": null,
      "metadata": {
        "id": "7cdlMV2-U4c8"
      },
      "outputs": [],
      "source": [
        "def softmax(z):\n",
        "    # z--> linear part\n",
        "    # Subtracting the max of z fo numerical stability.\n",
        "    exp = np.exp(z - np.max(z))\n",
        "\n",
        "    #Calculating softmax for all example\n",
        "    for i in range(len(z)):\n",
        "        exp[i] /= np.sum(exp[i])\n",
        "\n",
        "    return exp"
      ]
    },
    {
      "cell_type": "code",
      "execution_count": null,
      "metadata": {
        "id": "45LvPjNaV1MS"
      },
      "outputs": [],
      "source": [
        "def fit(X, y, lr, n_classes, epochs):\n",
        "    '''\n",
        "    Args:\n",
        "        X: Feature matrix\n",
        "        y: Labels\n",
        "        lr: Learning rate\n",
        "        n_classes: Number of classes\n",
        "        epochs: Number of epochs for training\n",
        "    \n",
        "    Returns:\n",
        "        w: learned weight vectors\n",
        "        b: learned biases\n",
        "        Losses: Losses reported in each epoch\n",
        "\n",
        "    '''\n",
        "    n_samples, n_features = X.shape\n",
        "\n",
        "    w = np.random.random((n_features, n_classes))\n",
        "    b = np.random.random(n_classes)\n",
        "\n",
        "    Losses = []\n",
        "\n",
        "    for epoch in range(epochs):\n",
        "        \n",
        "        z = linear_combination(X, w, b)\n",
        "        y_hat = softmax(z)\n",
        "        y_hot = convert_to_one_hot_encoding(y, n_classes)\n",
        "\n",
        "        w_grad = (1/n_samples) * np.dot(X.T, (y_hat - y_hot))\n",
        "        b_grad = (1/n_samples) * np.sum(y_hat - y_hot)\n",
        "\n",
        "        w -= lr * w_grad\n",
        "        b -= lr * b_grad\n",
        "\n",
        "        loss = -np.mean(np.log(y_hat[np.arange(len(y)), y]))\n",
        "        Losses.append(loss)\n",
        "\n",
        "        if (epoch % 10 == 0):\n",
        "            print('Epoch {epoch} ==> Loss = {loss}'.format(epoch=epoch, loss=loss))\n",
        "\n",
        "    return w, b, Losses"
      ]
    },
    {
      "cell_type": "code",
      "execution_count": null,
      "metadata": {
        "id": "gxrjmUycaUeJ"
      },
      "outputs": [],
      "source": [
        "def predict(X, w, b):\n",
        "    '''\n",
        "    Args:\n",
        "        X: Feature matrix\n",
        "        w: Weight vector\n",
        "        b: Bias\n",
        "\n",
        "    Return:\n",
        "        Predictions\n",
        "    '''\n",
        "\n",
        "    z = linear_combination(X, w, b)\n",
        "    y_hat = softmax(z)\n",
        "\n",
        "    return np.argmax(y_hat, axis=1)\n",
        "\n",
        "def accuracy(y, y_hat):\n",
        "    return np.sum(y == y_hat)/len(y)"
      ]
    },
    {
      "cell_type": "code",
      "execution_count": null,
      "metadata": {
        "colab": {
          "base_uri": "https://localhost:8080/"
        },
        "id": "d2uN5yhOaojz",
        "outputId": "1a79e4db-ac80-48f6-c117-fe2eeb6b9242"
      },
      "outputs": [
        {
          "name": "stdout",
          "output_type": "stream",
          "text": [
            "Epoch 0 ==> Loss = 4.061021397811383\n",
            "Epoch 10 ==> Loss = 1.0180109757706015\n",
            "Epoch 20 ==> Loss = 0.6730704655498944\n",
            "Epoch 30 ==> Loss = 0.575356231212359\n",
            "Epoch 40 ==> Loss = 0.5254241140118284\n",
            "Epoch 50 ==> Loss = 0.4924179464213497\n",
            "Epoch 60 ==> Loss = 0.46858006910695477\n",
            "Epoch 70 ==> Loss = 0.45034230522208846\n",
            "Epoch 80 ==> Loss = 0.43581058988419397\n",
            "Epoch 90 ==> Loss = 0.42387781300926564\n"
          ]
        }
      ],
      "source": [
        "weight, bias, losses = fit(X_train, train_y, lr=0.9, n_classes=10, epochs=100)"
      ]
    },
    {
      "cell_type": "code",
      "execution_count": null,
      "metadata": {
        "colab": {
          "base_uri": "https://localhost:8080/",
          "height": 54
        },
        "id": "qILdUDz1azXQ",
        "outputId": "95ac4fa1-0ae6-4e1d-f159-08b5566ffe44"
      },
      "outputs": [
        {
          "data": {
            "image/png": "[encoded data removed]",
            "text/plain": [
              "<Figure size 432x288 with 1 Axes>"
            ]
          },
          "metadata": {
            "needs_background": "light"
          },
          "output_type": "display_data"
        }
      ],
      "source": [
        "plt.figure()\n",
        "plt.title(\"Learning Curve\")\n",
        "plt.legend(['Training Loss'])\n",
        "plt.xlabel('No. of Epochs')\n",
        "plt.ylabel('Loss function')\n",
        "plt.plot(np.arange(len(losses)), losses, 'b-')\n",
        "plt.show()"
      ]
    },
    {
      "cell_type": "code",
      "execution_count": null,
      "metadata": {
        "colab": {
          "base_uri": "https://localhost:8080/"
        },
        "id": "YosYF1r2cvh9",
        "outputId": "ae7d3a0e-3611-4e54-e0d6-46a88dd94816"
      },
      "outputs": [
        {
          "name": "stdout",
          "output_type": "stream",
          "text": [
            "Accuracy of training set:  0.8772666666666666\n"
          ]
        }
      ],
      "source": [
        "train_preds = predict(X_train, weight, bias)\n",
        "print('Accuracy of training set: ', accuracy(train_y, train_preds))"
      ]
    },
    {
      "cell_type": "code",
      "execution_count": null,
      "metadata": {
        "colab": {
          "base_uri": "https://localhost:8080/"
        },
        "id": "WnddQk7jgP4Z",
        "outputId": "101b3778-5018-4d83-9257-2387a60a8a3f"
      },
      "outputs": [
        {
          "name": "stdout",
          "output_type": "stream",
          "text": [
            "Accuracy of test set:  0.8816\n"
          ]
        }
      ],
      "source": [
        "test_preds = predict(X_test, weight, bias)\n",
        "print('Accuracy of test set: ', accuracy(test_y, test_preds))"
      ]
    },
    {
      "cell_type": "code",
      "execution_count": null,
      "metadata": {
        "colab": {
          "base_uri": "https://localhost:8080/",
          "height": 54
        },
        "id": "5t7w03sOAf-r",
        "outputId": "8b5c64cb-6525-47ee-943e-5f646805a338"
      },
      "outputs": [
        {
          "data": {
            "image/png": "[encoded data removed]",
            "text/plain": [
              "<Figure size 432x288 with 2 Axes>"
            ]
          },
          "metadata": {
            "needs_background": "light"
          },
          "output_type": "display_data"
        }
      ],
      "source": [
        "from sklearn.metrics import ConfusionMatrixDisplay\n",
        "\n",
        "cm_disp = ConfusionMatrixDisplay.from_predictions(test_y, test_preds)"
      ]
    },
    {
      "cell_type": "code",
      "execution_count": null,
      "metadata": {
        "colab": {
          "base_uri": "https://localhost:8080/"
        },
        "id": "hTLo1-kDAgji",
        "outputId": "233c6b16-451e-4cd9-e651-533284a6fffb"
      },
      "outputs": [
        {
          "name": "stdout",
          "output_type": "stream",
          "text": [
            "              precision    recall  f1-score   support\n",
            "\n",
            "           0       0.92      0.96      0.94       980\n",
            "           1       0.95      0.97      0.96      1135\n",
            "           2       0.89      0.85      0.87      1032\n",
            "           3       0.85      0.87      0.86      1010\n",
            "           4       0.87      0.90      0.88       982\n",
            "           5       0.85      0.78      0.81       892\n",
            "           6       0.91      0.92      0.92       958\n",
            "           7       0.90      0.88      0.89      1028\n",
            "           8       0.82      0.83      0.83       974\n",
            "           9       0.84      0.84      0.84      1009\n",
            "\n",
            "    accuracy                           0.88     10000\n",
            "   macro avg       0.88      0.88      0.88     10000\n",
            "weighted avg       0.88      0.88      0.88     10000\n",
            "\n"
          ]
        }
      ],
      "source": [
        "from sklearn.metrics import classification_report\n",
        "print(classification_report(test_y, test_preds))"
      ]
    },
    {
      "cell_type": "code",
      "execution_count": null,
      "metadata": {
        "id": "aPBb9re6Aivc"
      },
      "outputs": [],
      "source": []
    }
  ],
  "metadata": {
    "colab": {
      "provenance": []
    },
    "kernelspec": {
      "display_name": "Python 3.7.9 64-bit (microsoft store)",
      "language": "python",
      "name": "python3"
    },
    "language_info": {
      "name": "python",
      "version": "3.7.9"
    },
    "vscode": {
      "interpreter": {
        "hash": "49deadb19ec3199b19c2e07bd674ab90037832d683175982dd3cb88bf7cb6cf2"
      }
    }
  },
  "nbformat": 4,
  "nbformat_minor": 0
}
