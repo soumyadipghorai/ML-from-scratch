{
 "cells": [
  {
   "cell_type": "code",
   "execution_count": 2,
   "metadata": {},
   "outputs": [],
   "source": [
    "import numpy as np \n",
    "import matplotlib.pyplot as plt \n",
    "import seaborn as sns\n",
    "\n",
    "%matplotlib inline"
   ]
  },
  {
   "cell_type": "code",
   "execution_count": 3,
   "metadata": {},
   "outputs": [],
   "source": [
    "w1 = 3 \n",
    "w0 = 4 \n",
    "n = 100 \n",
    "\n",
    "X = 10 * np.random.rand(n, )\n",
    "y = w0 + w1 * X + np.random.randn(n, )"
   ]
  },
  {
   "cell_type": "code",
   "execution_count": 4,
   "metadata": {},
   "outputs": [
    {
     "name": "stdout",
     "output_type": "stream",
     "text": [
      "shape of the training data feature matrix :  (100,)\n",
      "shape of the label vector :  (100,)\n"
     ]
    }
   ],
   "source": [
    "print('shape of the training data feature matrix : ', X.shape )\n",
    "print('shape of the label vector : ', y.shape)"
   ]
  },
  {
   "cell_type": "code",
   "execution_count": 5,
   "metadata": {},
   "outputs": [],
   "source": [
    "from sklearn.model_selection import train_test_split\n",
    "\n",
    "x_train, x_test, y_train, y_test = train_test_split(X, y, test_size= 0.2, random_state=42)"
   ]
  },
  {
   "cell_type": "code",
   "execution_count": 6,
   "metadata": {},
   "outputs": [
    {
     "name": "stdout",
     "output_type": "stream",
     "text": [
      "Shape of x train :  (80,)\n",
      "Shape of x test :  (20,)\n",
      "Shape of y train :  (80,)\n",
      "Shape of y test :  (20,)\n"
     ]
    }
   ],
   "source": [
    "print('Shape of x train : ', x_train.shape)\n",
    "print('Shape of x test : ', x_test.shape)\n",
    "print('Shape of y train : ', y_train.shape)\n",
    "print('Shape of y test : ', y_test.shape)"
   ]
  },
  {
   "cell_type": "code",
   "execution_count": 7,
   "metadata": {},
   "outputs": [
    {
     "data": {
      "text/plain": [
       "array([6.98710396, 6.75493571, 2.76271859, 5.31280431, 3.41387756])"
      ]
     },
     "execution_count": 7,
     "metadata": {},
     "output_type": "execute_result"
    }
   ],
   "source": [
    "x_train[:5]"
   ]
  },
  {
   "cell_type": "code",
   "execution_count": 8,
   "metadata": {},
   "outputs": [
    {
     "data": {
      "text/plain": [
       "array([25.69145822, 23.39673505, 14.9673195 , 18.80278778, 13.41040254])"
      ]
     },
     "execution_count": 8,
     "metadata": {},
     "output_type": "execute_result"
    }
   ],
   "source": [
    "y_train[:5]"
   ]
  },
  {
   "cell_type": "code",
   "execution_count": 9,
   "metadata": {},
   "outputs": [
    {
     "data": {
      "image/png": "[encoded data removed]",
      "text/plain": [
       "<Figure size 576x576 with 1 Axes>"
      ]
     },
     "metadata": {},
     "output_type": "display_data"
    }
   ],
   "source": [
    "sns.set_style('white')\n",
    "f = plt.figure(figsize=(8, 8))\n",
    "sns.set_context('notebook', font_scale=1.5, rc ={'lines.linewidth' : 2.5})\n",
    "\n",
    "plt.plot(x_train, y_train, \"b.\")\n",
    "plt.title('Data points')\n",
    "plt.grid(True)\n",
    "plt.xlabel('$x_1$', fontsize = 18)\n",
    "plt.ylabel('$y_1$', rotation = 0, fontsize = 18)\n",
    "plt.axis([0, 10, 0, 40])\n",
    "\n",
    "plt.show()"
   ]
  },
  {
   "cell_type": "code",
   "execution_count": 10,
   "metadata": {},
   "outputs": [],
   "source": [
    "def add_dummy_feature(x) : \n",
    "    return np.column_stack((np.ones(x.shape[0]), x))"
   ]
  },
  {
   "cell_type": "code",
   "execution_count": 11,
   "metadata": {},
   "outputs": [
    {
     "name": "stderr",
     "output_type": "stream",
     "text": [
      "test_add_dummy_feature (__main__.TestAddDummyFeature) ... ok\n",
      "\n",
      "----------------------------------------------------------------------\n",
      "Ran 1 test in 0.001s\n",
      "\n",
      "OK\n"
     ]
    },
    {
     "data": {
      "text/plain": [
       "<unittest.main.TestProgram at 0x17304b57308>"
      ]
     },
     "execution_count": 11,
     "metadata": {},
     "output_type": "execute_result"
    }
   ],
   "source": [
    "import unittest \n",
    "\n",
    "class TestAddDummyFeature(unittest.TestCase) : \n",
    "    def test_add_dummy_feature(self) : \n",
    "        train_matrix = np.array([[3, 2, 5], [9, 4, 7]])\n",
    "        train_matrix_with_dummy_feature = add_dummy_feature(train_matrix)\n",
    "\n",
    "        self.assertEqual(train_matrix_with_dummy_feature.shape, (2, 4))\n",
    "\n",
    "        np.testing.assert_array_equal(\n",
    "            train_matrix_with_dummy_feature, \n",
    "            np.array([[1, 3, 2, 5], [1, 9, 4, 7]])\n",
    "        )\n",
    "\n",
    "unittest.main(argv= [''], defaultTest = 'TestAddDummyFeature', verbosity = 2, exit = False)"
   ]
  },
  {
   "cell_type": "code",
   "execution_count": 12,
   "metadata": {},
   "outputs": [
    {
     "name": "stdout",
     "output_type": "stream",
     "text": [
      "before adding dummy feature : \n",
      " [6.98710396 6.75493571 2.76271859 5.31280431 3.41387756]\n",
      "after adding dummy feature : \n",
      " [[1.         6.98710396]\n",
      " [1.         6.75493571]\n",
      " [1.         2.76271859]\n",
      " [1.         5.31280431]\n",
      " [1.         3.41387756]]\n"
     ]
    }
   ],
   "source": [
    "print('before adding dummy feature : \\n', x_train[:5])\n",
    "x_train_with_dummy = add_dummy_feature(x_train)\n",
    "print('after adding dummy feature : \\n', x_train_with_dummy[:5])"
   ]
  },
  {
   "cell_type": "code",
   "execution_count": 13,
   "metadata": {},
   "outputs": [],
   "source": [
    "def predict(X, w) : \n",
    "    # X --> (n, m+1)\n",
    "    # w --> (m+1, n)\n",
    "    assert X.shape[-1] == w.shape[0]\n",
    "    return X@w #matrix multiplication"
   ]
  },
  {
   "cell_type": "code",
   "execution_count": 14,
   "metadata": {},
   "outputs": [],
   "source": [
    "w = np.random.rand(2, )"
   ]
  },
  {
   "cell_type": "code",
   "execution_count": 15,
   "metadata": {},
   "outputs": [],
   "source": [
    "y_hat = predict(add_dummy_feature(x_train), w)"
   ]
  },
  {
   "cell_type": "code",
   "execution_count": 16,
   "metadata": {},
   "outputs": [],
   "source": [
    "def non_vectorized_predict(X, w) : \n",
    "    y = []\n",
    "    for i in range(0, X.shape[0]) : \n",
    "        y_hat_i = 0\n",
    "        for j in range(0, X.shape[1]) : \n",
    "            y_hat_i += X[i][j] * w[j]\n",
    "        y.append(y_hat_i)\n",
    "    return np.array(y)"
   ]
  },
  {
   "cell_type": "code",
   "execution_count": 17,
   "metadata": {},
   "outputs": [
    {
     "name": "stdout",
     "output_type": "stream",
     "text": [
      "time taken in vectorized form : 0.00029159 \n",
      "time taken in non vectorized form : 0.00070500 \n"
     ]
    }
   ],
   "source": [
    "import time \n",
    "\n",
    "start_time = time.time()\n",
    "y_hat_vectorized = predict(add_dummy_feature(x_train), w) \n",
    "end_time = time.time()\n",
    "print('time taken in vectorized form : %0.8f '%(end_time - start_time))\n",
    "\n",
    "start_time = time.time()\n",
    "y_hat_non_vectorized = non_vectorized_predict(add_dummy_feature(x_train), w) \n",
    "end_time = time.time()\n",
    "print('time taken in non vectorized form : %0.8f '%(end_time - start_time))\n",
    "\n",
    "np.testing.assert_array_equal(y_hat_vectorized, y_hat_non_vectorized)"
   ]
  },
  {
   "cell_type": "code",
   "execution_count": 18,
   "metadata": {},
   "outputs": [
    {
     "name": "stdout",
     "output_type": "stream",
     "text": [
      "time taken in vectorized form : 0.00098705 \n",
      "time taken in non vectorized form : 0.01516962 \n"
     ]
    }
   ],
   "source": [
    "w1 = 3 \n",
    "w0 = 4 \n",
    "n = 10000\n",
    "\n",
    "X = 10 * np.random.rand(n, )\n",
    "y = w0 + w1 * X + np.random.randn(n, )\n",
    "\n",
    "x_train, x_test, y_train, y_test = train_test_split(X, y, test_size= 0.2, random_state=42)\n",
    "\n",
    "start_time = time.time()\n",
    "y_hat_vectorized = predict(add_dummy_feature(x_train), w) \n",
    "end_time = time.time()\n",
    "print('time taken in vectorized form : %0.8f '%(end_time - start_time))\n",
    "\n",
    "start_time = time.time()\n",
    "y_hat_non_vectorized = non_vectorized_predict(add_dummy_feature(x_train), w) \n",
    "end_time = time.time()\n",
    "print('time taken in non vectorized form : %0.8f '%(end_time - start_time))\n",
    "\n",
    "np.testing.assert_array_equal(y_hat_vectorized, y_hat_non_vectorized)"
   ]
  },
  {
   "cell_type": "code",
   "execution_count": 19,
   "metadata": {},
   "outputs": [],
   "source": [
    "def loss(X, y, w) : \n",
    "    e = predict(X, w) - y \n",
    "    return (1/2) * (np.transpose(e) @ e)"
   ]
  },
  {
   "cell_type": "code",
   "execution_count": 74,
   "metadata": {},
   "outputs": [],
   "source": [
    "def generate_data(n) :\n",
    "    w1 = 3 \n",
    "    w0 = 4 \n",
    "\n",
    "    X = 10*np.random.rand(n,)\n",
    "    y = w0 + w1 * X + np.random.rand(n,)\n",
    "    return X, y"
   ]
  },
  {
   "cell_type": "code",
   "execution_count": 75,
   "metadata": {},
   "outputs": [],
   "source": [
    "def normal_equation(X, y) : \n",
    "    return np.linalg.pinv(X) @ y"
   ]
  },
  {
   "cell_type": "code",
   "execution_count": 76,
   "metadata": {},
   "outputs": [],
   "source": [
    "def calculate_gradient(X, y, w) : \n",
    "    return np.transpose(X)@(predict(X, w) - y)"
   ]
  },
  {
   "cell_type": "code",
   "execution_count": 77,
   "metadata": {},
   "outputs": [],
   "source": [
    "def update_weight(w, grad, lr) : \n",
    "    return (w - lr*grad)"
   ]
  },
  {
   "cell_type": "code",
   "execution_count": 78,
   "metadata": {},
   "outputs": [],
   "source": [
    "def gradient_descent(X:np.ndarray, y:np.ndarray, lr:float, num_epochs:int) : \n",
    "    w_all = []\n",
    "    err_all = []\n",
    "    w = np.zeros(X.shape[1])\n",
    "    print()\n",
    "    for i in np.arange(0, num_epochs) : \n",
    "        w_all.append(w)\n",
    "        err_all.append(loss(X, y, w))\n",
    "\n",
    "        dJdW = calculate_gradient(X, y, w)\n",
    "        if (i%100) == 0 : \n",
    "            print('iteration #: %d, loss: %4.2f'%(i, err_all[-1]))\n",
    "\n",
    "        w = update_weight(w, dJdW, lr)\n",
    "\n",
    "    return w, err_all, w_all"
   ]
  },
  {
   "cell_type": "code",
   "execution_count": 112,
   "metadata": {},
   "outputs": [],
   "source": [
    "X, y = generate_data(100)\n",
    "X_train, X_test, y_train, y_test = train_test_split(X, y, test_size= 0.2)"
   ]
  },
  {
   "cell_type": "code",
   "execution_count": 125,
   "metadata": {},
   "outputs": [
    {
     "name": "stderr",
     "output_type": "stream",
     "text": [
      "test_gradient_descent (__main__.TestGradientDescent) ... "
     ]
    },
    {
     "name": "stdout",
     "output_type": "stream",
     "text": [
      "\n",
      "iteration #: 0, loss: 16950.79\n",
      "iteration #: 100, loss: 110.21\n",
      "iteration #: 200, loss: 74.63\n",
      "iteration #: 300, loss: 50.89\n",
      "iteration #: 400, loss: 35.05\n",
      "iteration #: 500, loss: 24.49\n",
      "iteration #: 600, loss: 17.45\n",
      "iteration #: 700, loss: 12.75\n",
      "iteration #: 800, loss: 9.61\n",
      "iteration #: 900, loss: 7.52\n",
      "iteration #: 1000, loss: 6.13\n",
      "iteration #: 1100, loss: 5.20\n",
      "iteration #: 1200, loss: 4.58\n",
      "iteration #: 1300, loss: 4.16\n",
      "iteration #: 1400, loss: 3.89\n",
      "iteration #: 1500, loss: 3.70\n",
      "iteration #: 1600, loss: 3.58\n",
      "iteration #: 1700, loss: 3.50\n",
      "iteration #: 1800, loss: 3.44\n",
      "iteration #: 1900, loss: 3.41\n"
     ]
    },
    {
     "name": "stderr",
     "output_type": "stream",
     "text": [
      "ok\n",
      "\n",
      "----------------------------------------------------------------------\n",
      "Ran 1 test in 0.053s\n",
      "\n",
      "OK\n"
     ]
    },
    {
     "data": {
      "text/plain": [
       "<unittest.main.TestProgram at 0x1730764a388>"
      ]
     },
     "execution_count": 125,
     "metadata": {},
     "output_type": "execute_result"
    }
   ],
   "source": [
    "class TestGradientDescent(unittest.TestCase) : \n",
    "    def test_gradient_descent(self) : \n",
    "        \n",
    "        feature_matrix = add_dummy_feature(X_train)\n",
    "        label_vector = y_train \n",
    "\n",
    "        w, err_all, w_all = gradient_descent(feature_matrix, label_vector, lr = 0.0001, num_epochs= 2000)\n",
    "\n",
    "        self.assertEqual(w.shape, (2, ))\n",
    "\n",
    "unittest.main(argv= [''], defaultTest = 'TestGradientDescent', verbosity = 2, exit = False)"
   ]
  },
  {
   "cell_type": "code",
   "execution_count": 126,
   "metadata": {},
   "outputs": [
    {
     "name": "stdout",
     "output_type": "stream",
     "text": [
      "\n",
      "iteration #: 0, loss: 16950.79\n",
      "iteration #: 100, loss: 110.21\n",
      "iteration #: 200, loss: 74.63\n",
      "iteration #: 300, loss: 50.89\n",
      "iteration #: 400, loss: 35.05\n",
      "iteration #: 500, loss: 24.49\n",
      "iteration #: 600, loss: 17.45\n",
      "iteration #: 700, loss: 12.75\n",
      "iteration #: 800, loss: 9.61\n",
      "iteration #: 900, loss: 7.52\n",
      "iteration #: 1000, loss: 6.13\n",
      "iteration #: 1100, loss: 5.20\n",
      "iteration #: 1200, loss: 4.58\n",
      "iteration #: 1300, loss: 4.16\n",
      "iteration #: 1400, loss: 3.89\n",
      "iteration #: 1500, loss: 3.70\n",
      "iteration #: 1600, loss: 3.58\n",
      "iteration #: 1700, loss: 3.50\n",
      "iteration #: 1800, loss: 3.44\n",
      "iteration #: 1900, loss: 3.41\n"
     ]
    }
   ],
   "source": [
    "w, err_all, w_all = gradient_descent(add_dummy_feature(X_train), y_train, lr = 0.0001, num_epochs= 2000)"
   ]
  },
  {
   "cell_type": "code",
   "execution_count": 138,
   "metadata": {},
   "outputs": [
    {
     "data": {
      "image/png": "[encoded data removed]",
      "text/plain": [
       "<Figure size 432x288 with 1 Axes>"
      ]
     },
     "metadata": {},
     "output_type": "display_data"
    }
   ],
   "source": [
    "def plot_learning_curves(err_all) : \n",
    "    plt.plot(err_all)\n",
    "    plt.xlabel('interation')\n",
    "    plt.ylabel('Loss')\n",
    "\n",
    "plot_learning_curves(err_all)"
   ]
  },
  {
   "cell_type": "code",
   "execution_count": 140,
   "metadata": {},
   "outputs": [
    {
     "name": "stdout",
     "output_type": "stream",
     "text": [
      "\n",
      "iteration #: 0, loss: 16950.79\n",
      "iteration #: 100, loss: 10338.52\n",
      "iteration #: 200, loss: 6330.23\n",
      "iteration #: 300, loss: 3900.35\n",
      "iteration #: 400, loss: 2427.22\n",
      "iteration #: 500, loss: 1534.04\n",
      "iteration #: 600, loss: 992.38\n",
      "iteration #: 700, loss: 663.81\n",
      "iteration #: 800, loss: 464.40\n",
      "iteration #: 900, loss: 343.28\n",
      "iteration #: 1000, loss: 269.62\n",
      "iteration #: 1100, loss: 224.73\n",
      "iteration #: 1200, loss: 197.28\n",
      "iteration #: 1300, loss: 180.39\n",
      "iteration #: 1400, loss: 169.92\n",
      "iteration #: 1500, loss: 163.33\n",
      "iteration #: 1600, loss: 159.10\n",
      "iteration #: 1700, loss: 156.30\n",
      "iteration #: 1800, loss: 154.36\n",
      "iteration #: 1900, loss: 152.96\n"
     ]
    },
    {
     "data": {
      "image/png": "[encoded data removed]",
      "text/plain": [
       "<Figure size 432x288 with 1 Axes>"
      ]
     },
     "metadata": {},
     "output_type": "display_data"
    }
   ],
   "source": [
    "w, err_all, w_all = gradient_descent(add_dummy_feature(X_train), y_train, lr = 1e-6, num_epochs= 2000)\n",
    "plot_learning_curves(err_all)"
   ]
  },
  {
   "cell_type": "code",
   "execution_count": 141,
   "metadata": {},
   "outputs": [
    {
     "name": "stdout",
     "output_type": "stream",
     "text": [
      "\n",
      "iteration #: 0, loss: 16950.79\n",
      "iteration #: 100, loss: 110.21\n",
      "iteration #: 200, loss: 74.63\n",
      "iteration #: 300, loss: 50.89\n",
      "iteration #: 400, loss: 35.05\n",
      "iteration #: 500, loss: 24.49\n",
      "iteration #: 600, loss: 17.45\n",
      "iteration #: 700, loss: 12.75\n",
      "iteration #: 800, loss: 9.61\n",
      "iteration #: 900, loss: 7.52\n",
      "iteration #: 1000, loss: 6.13\n",
      "iteration #: 1100, loss: 5.20\n",
      "iteration #: 1200, loss: 4.58\n",
      "iteration #: 1300, loss: 4.16\n",
      "iteration #: 1400, loss: 3.89\n",
      "iteration #: 1500, loss: 3.70\n",
      "iteration #: 1600, loss: 3.58\n",
      "iteration #: 1700, loss: 3.50\n",
      "iteration #: 1800, loss: 3.44\n",
      "iteration #: 1900, loss: 3.41\n"
     ]
    },
    {
     "data": {
      "image/png": "[encoded data removed]",
      "text/plain": [
       "<Figure size 432x288 with 1 Axes>"
      ]
     },
     "metadata": {},
     "output_type": "display_data"
    }
   ],
   "source": [
    "w, err_all, w_all = gradient_descent(add_dummy_feature(X_train), y_train, lr = 1e-4, num_epochs= 2000)\n",
    "plot_learning_curves(err_all)"
   ]
  },
  {
   "cell_type": "code",
   "execution_count": 142,
   "metadata": {},
   "outputs": [
    {
     "name": "stdout",
     "output_type": "stream",
     "text": [
      "\n",
      "iteration #: 0, loss: 16950.79\n",
      "iteration #: 100, loss:  inf\n",
      "iteration #: 200, loss:  nan\n",
      "iteration #: 300, loss:  nan\n",
      "iteration #: 400, loss:  nan\n",
      "iteration #: 500, loss:  nan\n",
      "iteration #: 600, loss:  nan\n",
      "iteration #: 700, loss:  nan\n",
      "iteration #: 800, loss:  nan\n",
      "iteration #: 900, loss:  nan\n",
      "iteration #: 1000, loss:  nan\n",
      "iteration #: 1100, loss:  nan\n",
      "iteration #: 1200, loss:  nan\n",
      "iteration #: 1300, loss:  nan\n",
      "iteration #: 1400, loss:  nan\n",
      "iteration #: 1500, loss:  nan\n",
      "iteration #: 1600, loss:  nan\n",
      "iteration #: 1700, loss:  nan\n",
      "iteration #: 1800, loss:  nan\n",
      "iteration #: 1900, loss:  nan\n"
     ]
    },
    {
     "name": "stderr",
     "output_type": "stream",
     "text": [
      "C:\\Users\\Computer\\AppData\\Local\\Packages\\PythonSoftwareFoundation.Python.3.7_qbz5n2kfra8p0\\LocalCache\\local-packages\\Python37\\site-packages\\ipykernel_launcher.py:3: RuntimeWarning: overflow encountered in matmul\n",
      "  This is separate from the ipykernel package so we can avoid doing imports until\n",
      "C:\\Users\\Computer\\AppData\\Local\\Packages\\PythonSoftwareFoundation.Python.3.7_qbz5n2kfra8p0\\LocalCache\\local-packages\\Python37\\site-packages\\ipykernel_launcher.py:2: RuntimeWarning: overflow encountered in matmul\n",
      "  \n",
      "C:\\Users\\Computer\\AppData\\Local\\Packages\\PythonSoftwareFoundation.Python.3.7_qbz5n2kfra8p0\\LocalCache\\local-packages\\Python37\\site-packages\\ipykernel_launcher.py:2: RuntimeWarning: invalid value encountered in subtract\n",
      "  \n"
     ]
    },
    {
     "data": {
      "image/png": "[encoded data removed]",
      "text/plain": [
       "<Figure size 432x288 with 1 Axes>"
      ]
     },
     "metadata": {},
     "output_type": "display_data"
    }
   ],
   "source": [
    "w, err_all, w_all = gradient_descent(add_dummy_feature(X_train), y_train, lr = 1e-1, num_epochs= 2000)\n",
    "plot_learning_curves(err_all)"
   ]
  },
  {
   "cell_type": "code",
   "execution_count": null,
   "metadata": {},
   "outputs": [],
   "source": []
  }
 ],
 "metadata": {
  "kernelspec": {
   "display_name": "Python 3.7.9 64-bit (windows store)",
   "language": "python",
   "name": "python3"
  },
  "language_info": {
   "codemirror_mode": {
    "name": "ipython",
    "version": 3
   },
   "file_extension": ".py",
   "mimetype": "text/x-python",
   "name": "python",
   "nbconvert_exporter": "python",
   "pygments_lexer": "ipython3",
   "version": "3.7.9"
  },
  "orig_nbformat": 4,
  "vscode": {
   "interpreter": {
    "hash": "49deadb19ec3199b19c2e07bd674ab90037832d683175982dd3cb88bf7cb6cf2"
   }
  }
 },
 "nbformat": 4,
 "nbformat_minor": 2
}
